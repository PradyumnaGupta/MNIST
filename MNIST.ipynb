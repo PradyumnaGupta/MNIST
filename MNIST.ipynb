{
  "nbformat": 4,
  "nbformat_minor": 0,
  "metadata": {
    "colab": {
      "name": "MNIST.ipynb",
      "version": "0.3.2",
      "provenance": [],
      "include_colab_link": true
    },
    "kernelspec": {
      "name": "python3",
      "display_name": "Python 3"
    },
    "accelerator": "GPU"
  },
  "cells": [
    {
      "cell_type": "markdown",
      "metadata": {
        "id": "view-in-github",
        "colab_type": "text"
      },
      "source": [
        "<a href=\"https://colab.research.google.com/github/PradyumnaGupta/MNIST/blob/master/MNIST.ipynb\" target=\"_parent\"><img src=\"https://colab.research.google.com/assets/colab-badge.svg\" alt=\"Open In Colab\"/></a>"
      ]
    },
    {
      "cell_type": "code",
      "metadata": {
        "id": "k-Od5J45ZUS-",
        "colab_type": "code",
        "colab": {}
      },
      "source": [
        "import pandas as pd \n",
        "import numpy as np\n",
        "import matplotlib.pyplot as plt\n",
        "import seaborn "
      ],
      "execution_count": 0,
      "outputs": []
    },
    {
      "cell_type": "code",
      "metadata": {
        "id": "AG6PEHgvZh-O",
        "colab_type": "code",
        "colab": {}
      },
      "source": [
        "data_train=pd.read_csv('sample_data/mnist_train_small.csv')\n",
        "data_test=pd.read_csv('sample_data/mnist_test.csv')"
      ],
      "execution_count": 0,
      "outputs": []
    },
    {
      "cell_type": "code",
      "metadata": {
        "id": "-Rxt5gvNZ1WK",
        "colab_type": "code",
        "outputId": "76f9f6af-04af-4f2a-e328-c7ef0ac1d3d2",
        "colab": {
          "base_uri": "https://localhost:8080/",
          "height": 50
        }
      },
      "source": [
        "print(data_train.shape)\n",
        "print(data_test.shape)"
      ],
      "execution_count": 4,
      "outputs": [
        {
          "output_type": "stream",
          "text": [
            "(19999, 785)\n",
            "(9999, 785)\n"
          ],
          "name": "stdout"
        }
      ]
    },
    {
      "cell_type": "code",
      "metadata": {
        "id": "zdmdThR4eXLS",
        "colab_type": "code",
        "outputId": "c2b72541-4647-48ff-de04-ef370dc7ba2b",
        "colab": {
          "base_uri": "https://localhost:8080/",
          "height": 2150
        }
      },
      "source": [
        "print(data_train.head)"
      ],
      "execution_count": 5,
      "outputs": [
        {
          "output_type": "stream",
          "text": [
            "<bound method NDFrame.head of        6  0  0.1  0.2  0.3  0.4  0.5  0.6  0.7  0.8  ...  0.581  0.582  0.583  \\\n",
            "0      5  0    0    0    0    0    0    0    0    0  ...      0      0      0   \n",
            "1      7  0    0    0    0    0    0    0    0    0  ...      0      0      0   \n",
            "2      9  0    0    0    0    0    0    0    0    0  ...      0      0      0   \n",
            "3      5  0    0    0    0    0    0    0    0    0  ...      0      0      0   \n",
            "4      2  0    0    0    0    0    0    0    0    0  ...      0      0      0   \n",
            "5      0  0    0    0    0    0    0    0    0    0  ...      0      0      0   \n",
            "6      6  0    0    0    0    0    0    0    0    0  ...      0      0      0   \n",
            "7      5  0    0    0    0    0    0    0    0    0  ...      0      0      0   \n",
            "8      5  0    0    0    0    0    0    0    0    0  ...      0      0      0   \n",
            "9      2  0    0    0    0    0    0    0    0    0  ...      0      0      0   \n",
            "10     7  0    0    0    0    0    0    0    0    0  ...      0      0      0   \n",
            "11     7  0    0    0    0    0    0    0    0    0  ...      0      0      0   \n",
            "12     6  0    0    0    0    0    0    0    0    0  ...      0      0      0   \n",
            "13     8  0    0    0    0    0    0    0    0    0  ...      0      0      0   \n",
            "14     9  0    0    0    0    0    0    0    0    0  ...      0      0      0   \n",
            "15     3  0    0    0    0    0    0    0    0    0  ...      0      0      0   \n",
            "16     5  0    0    0    0    0    0    0    0    0  ...      0      0      0   \n",
            "17     7  0    0    0    0    0    0    0    0    0  ...      0      0      0   \n",
            "18     6  0    0    0    0    0    0    0    0    0  ...      0      0      0   \n",
            "19     9  0    0    0    0    0    0    0    0    0  ...      0      0      0   \n",
            "20     4  0    0    0    0    0    0    0    0    0  ...      0      0      0   \n",
            "21     3  0    0    0    0    0    0    0    0    0  ...      0      0      0   \n",
            "22     4  0    0    0    0    0    0    0    0    0  ...      0      0      0   \n",
            "23     9  0    0    0    0    0    0    0    0    0  ...      0      0      0   \n",
            "24     2  0    0    0    0    0    0    0    0    0  ...      0      0      0   \n",
            "25     9  0    0    0    0    0    0    0    0    0  ...      0      0      0   \n",
            "26     1  0    0    0    0    0    0    0    0    0  ...      0      0      0   \n",
            "27     3  0    0    0    0    0    0    0    0    0  ...      0      0      0   \n",
            "28     9  0    0    0    0    0    0    0    0    0  ...      0      0      0   \n",
            "29     7  0    0    0    0    0    0    0    0    0  ...      0      0      0   \n",
            "...   .. ..  ...  ...  ...  ...  ...  ...  ...  ...  ...    ...    ...    ...   \n",
            "19969  1  0    0    0    0    0    0    0    0    0  ...      0      0      0   \n",
            "19970  9  0    0    0    0    0    0    0    0    0  ...      0      0      0   \n",
            "19971  5  0    0    0    0    0    0    0    0    0  ...      0      0      0   \n",
            "19972  5  0    0    0    0    0    0    0    0    0  ...      0      0      0   \n",
            "19973  1  0    0    0    0    0    0    0    0    0  ...      0      0      0   \n",
            "19974  6  0    0    0    0    0    0    0    0    0  ...      0      0      0   \n",
            "19975  8  0    0    0    0    0    0    0    0    0  ...      0      0      0   \n",
            "19976  4  0    0    0    0    0    0    0    0    0  ...      0      0      0   \n",
            "19977  9  0    0    0    0    0    0    0    0    0  ...      0      0      0   \n",
            "19978  3  0    0    0    0    0    0    0    0    0  ...      0      0      0   \n",
            "19979  3  0    0    0    0    0    0    0    0    0  ...      0      0      0   \n",
            "19980  4  0    0    0    0    0    0    0    0    0  ...      0      0      0   \n",
            "19981  1  0    0    0    0    0    0    0    0    0  ...      0      0      0   \n",
            "19982  2  0    0    0    0    0    0    0    0    0  ...      0      0      0   \n",
            "19983  4  0    0    0    0    0    0    0    0    0  ...      0      0      0   \n",
            "19984  6  0    0    0    0    0    0    0    0    0  ...      0      0      0   \n",
            "19985  0  0    0    0    0    0    0    0    0    0  ...      0      0      0   \n",
            "19986  3  0    0    0    0    0    0    0    0    0  ...      0      0      0   \n",
            "19987  1  0    0    0    0    0    0    0    0    0  ...      0      0      0   \n",
            "19988  3  0    0    0    0    0    0    0    0    0  ...      0      0      0   \n",
            "19989  9  0    0    0    0    0    0    0    0    0  ...      0      0      0   \n",
            "19990  6  0    0    0    0    0    0    0    0    0  ...      0      0      0   \n",
            "19991  5  0    0    0    0    0    0    0    0    0  ...      0      0      0   \n",
            "19992  5  0    0    0    0    0    0    0    0    0  ...      0      0      0   \n",
            "19993  0  0    0    0    0    0    0    0    0    0  ...      0      0      0   \n",
            "19994  0  0    0    0    0    0    0    0    0    0  ...      0      0      0   \n",
            "19995  1  0    0    0    0    0    0    0    0    0  ...      0      0      0   \n",
            "19996  2  0    0    0    0    0    0    0    0    0  ...      0      0      0   \n",
            "19997  9  0    0    0    0    0    0    0    0    0  ...      0      0      0   \n",
            "19998  5  0    0    0    0    0    0    0    0    0  ...      0      0      0   \n",
            "\n",
            "       0.584  0.585  0.586  0.587  0.588  0.589  0.590  \n",
            "0          0      0      0      0      0      0      0  \n",
            "1          0      0      0      0      0      0      0  \n",
            "2          0      0      0      0      0      0      0  \n",
            "3          0      0      0      0      0      0      0  \n",
            "4          0      0      0      0      0      0      0  \n",
            "5          0      0      0      0      0      0      0  \n",
            "6          0      0      0      0      0      0      0  \n",
            "7          0      0      0      0      0      0      0  \n",
            "8          0      0      0      0      0      0      0  \n",
            "9          0      0      0      0      0      0      0  \n",
            "10         0      0      0      0      0      0      0  \n",
            "11         0      0      0      0      0      0      0  \n",
            "12         0      0      0      0      0      0      0  \n",
            "13         0      0      0      0      0      0      0  \n",
            "14         0      0      0      0      0      0      0  \n",
            "15         0      0      0      0      0      0      0  \n",
            "16         0      0      0      0      0      0      0  \n",
            "17         0      0      0      0      0      0      0  \n",
            "18         0      0      0      0      0      0      0  \n",
            "19         0      0      0      0      0      0      0  \n",
            "20         0      0      0      0      0      0      0  \n",
            "21         0      0      0      0      0      0      0  \n",
            "22         0      0      0      0      0      0      0  \n",
            "23         0      0      0      0      0      0      0  \n",
            "24         0      0      0      0      0      0      0  \n",
            "25         0      0      0      0      0      0      0  \n",
            "26         0      0      0      0      0      0      0  \n",
            "27         0      0      0      0      0      0      0  \n",
            "28         0      0      0      0      0      0      0  \n",
            "29         0      0      0      0      0      0      0  \n",
            "...      ...    ...    ...    ...    ...    ...    ...  \n",
            "19969      0      0      0      0      0      0      0  \n",
            "19970      0      0      0      0      0      0      0  \n",
            "19971      0      0      0      0      0      0      0  \n",
            "19972      0      0      0      0      0      0      0  \n",
            "19973      0      0      0      0      0      0      0  \n",
            "19974      0      0      0      0      0      0      0  \n",
            "19975      0      0      0      0      0      0      0  \n",
            "19976      0      0      0      0      0      0      0  \n",
            "19977      0      0      0      0      0      0      0  \n",
            "19978      0      0      0      0      0      0      0  \n",
            "19979      0      0      0      0      0      0      0  \n",
            "19980      0      0      0      0      0      0      0  \n",
            "19981      0      0      0      0      0      0      0  \n",
            "19982      0      0      0      0      0      0      0  \n",
            "19983      0      0      0      0      0      0      0  \n",
            "19984      0      0      0      0      0      0      0  \n",
            "19985      0      0      0      0      0      0      0  \n",
            "19986      0      0      0      0      0      0      0  \n",
            "19987      0      0      0      0      0      0      0  \n",
            "19988      0      0      0      0      0      0      0  \n",
            "19989      0      0      0      0      0      0      0  \n",
            "19990      0      0      0      0      0      0      0  \n",
            "19991      0      0      0      0      0      0      0  \n",
            "19992      0      0      0      0      0      0      0  \n",
            "19993      0      0      0      0      0      0      0  \n",
            "19994      0      0      0      0      0      0      0  \n",
            "19995      0      0      0      0      0      0      0  \n",
            "19996      0      0      0      0      0      0      0  \n",
            "19997      0      0      0      0      0      0      0  \n",
            "19998      0      0      0      0      0      0      0  \n",
            "\n",
            "[19999 rows x 785 columns]>\n"
          ],
          "name": "stdout"
        }
      ]
    },
    {
      "cell_type": "code",
      "metadata": {
        "id": "KZA4HHyxbUCH",
        "colab_type": "code",
        "outputId": "84af541e-7621-43ce-9eb6-ce0247696bb1",
        "colab": {
          "base_uri": "https://localhost:8080/",
          "height": 84
        }
      },
      "source": [
        "shape=data_train.shape\n",
        "X_train=pd.DataFrame(data_train.iloc[:,1:shape[1]])\n",
        "Y_train=pd.DataFrame(data_train.iloc[:,0])\n",
        "X_test=pd.DataFrame(data_test.iloc[:,1:shape[1]])\n",
        "Y_test=pd.DataFrame(data_test.iloc[:,0])\n",
        "print(X_train.shape)\n",
        "print(Y_train.shape)\n",
        "print(X_test.shape)\n",
        "print(Y_test.shape)\n",
        "#print(X_test.head)\n",
        "#print(Y_test.head)\n",
        "#print(Y_train.shape)"
      ],
      "execution_count": 6,
      "outputs": [
        {
          "output_type": "stream",
          "text": [
            "(19999, 784)\n",
            "(19999, 1)\n",
            "(9999, 784)\n",
            "(9999, 1)\n"
          ],
          "name": "stdout"
        }
      ]
    },
    {
      "cell_type": "code",
      "metadata": {
        "id": "WWB7m7XSbyup",
        "colab_type": "code",
        "outputId": "be64f8df-79f5-4ad5-8dd8-eef544e44caf",
        "colab": {
          "base_uri": "https://localhost:8080/",
          "height": 286
        }
      },
      "source": [
        "plt.figure()\n",
        "image=np.reshape(np.array(X_train)[0,:],(28,28))\n",
        "plt.imshow(image)\n",
        "plt.show()\n",
        "print(Y_train.iloc[0,0])"
      ],
      "execution_count": 7,
      "outputs": [
        {
          "output_type": "display_data",
          "data": {
            "image/png": "[encoded data removed]",
            "text/plain": [
              "<Figure size 432x288 with 1 Axes>"
            ]
          },
          "metadata": {
            "tags": []
          }
        },
        {
          "output_type": "stream",
          "text": [
            "5\n"
          ],
          "name": "stdout"
        }
      ]
    },
    {
      "cell_type": "code",
      "metadata": {
        "id": "bgK6cUjwcPNF",
        "colab_type": "code",
        "outputId": "07ef2086-7581-4430-a5b5-4cbfbeac55d0",
        "colab": {
          "base_uri": "https://localhost:8080/",
          "height": 101
        }
      },
      "source": [
        "#\n",
        "train_X=[]\n",
        "for i in range(X_train.shape[0]):\n",
        "  arr=np.reshape(np.array(X_train.iloc[i,:]),(28,28,1))\n",
        "  train_X.append(arr)\n",
        "X_train=np.array(train_X)\n",
        "plt.figure()\n",
        "#plt.imshow(X_train[0,:,:,:])\n",
        "plt.show()\n",
        "print(X_train.shape)\n",
        "print(np.array(train_X).shape)\n",
        "#\n",
        "test_X=[]\n",
        "for i in range(X_test.shape[0]):\n",
        "  arr=np.reshape(np.array(X_test.iloc[i,:]),(28,28,1))\n",
        "  test_X.append(arr)\n",
        "X_test=np.array(test_X)\n",
        "plt.figure()\n",
        "#plt.imshow(X_test[0,:,:,:])\n",
        "plt.show()\n",
        "print(X_test.shape)"
      ],
      "execution_count": 8,
      "outputs": [
        {
          "output_type": "display_data",
          "data": {
            "text/plain": [
              "<Figure size 432x288 with 0 Axes>"
            ]
          },
          "metadata": {
            "tags": []
          }
        },
        {
          "output_type": "stream",
          "text": [
            "(19999, 28, 28, 1)\n",
            "(19999, 28, 28, 1)\n"
          ],
          "name": "stdout"
        },
        {
          "output_type": "display_data",
          "data": {
            "text/plain": [
              "<Figure size 432x288 with 0 Axes>"
            ]
          },
          "metadata": {
            "tags": []
          }
        },
        {
          "output_type": "stream",
          "text": [
            "(9999, 28, 28, 1)\n"
          ],
          "name": "stdout"
        }
      ]
    },
    {
      "cell_type": "code",
      "metadata": {
        "id": "LzhliKfgcUxN",
        "colab_type": "code",
        "colab": {}
      },
      "source": [
        "X_train=X_train/255\n",
        "X_test=X_test/255\n",
        "#plt.figure()\n",
        "#plt.imshow(temp[0])\n",
        "#plt.show()"
      ],
      "execution_count": 0,
      "outputs": []
    },
    {
      "cell_type": "code",
      "metadata": {
        "id": "X3gy-CXGcfEg",
        "colab_type": "code",
        "outputId": "d3c76c44-cbfd-4627-bfa8-c7ace7632eaa",
        "colab": {
          "base_uri": "https://localhost:8080/",
          "height": 84
        }
      },
      "source": [
        "print(X_train.shape)\n",
        "print(Y_train.shape)\n",
        "print(X_test.shape)\n",
        "print(Y_test.shape)"
      ],
      "execution_count": 10,
      "outputs": [
        {
          "output_type": "stream",
          "text": [
            "(19999, 28, 28, 1)\n",
            "(19999, 1)\n",
            "(9999, 28, 28, 1)\n",
            "(9999, 1)\n"
          ],
          "name": "stdout"
        }
      ]
    },
    {
      "cell_type": "code",
      "metadata": {
        "id": "QZa_ZM4-vRPV",
        "colab_type": "code",
        "colab": {
          "base_uri": "https://localhost:8080/",
          "height": 34
        },
        "outputId": "7af5b799-e291-4504-9d38-1423ead17e2a"
      },
      "source": [
        "import numpy as np\n",
        "from keras import layers\n",
        "from keras.layers import Input, Add, Dense, Activation, ZeroPadding2D, BatchNormalization, Flatten, Conv2D, AveragePooling2D, MaxPooling2D, GlobalMaxPooling2D,Dropout\n",
        "from keras.models import Model, load_model,Sequential\n",
        "from keras.preprocessing import image\n",
        "from keras.utils import layer_utils\n",
        "from keras.utils.data_utils import get_file\n",
        "from keras.applications.imagenet_utils import preprocess_input\n",
        "import pydot\n",
        "from IPython.display import SVG\n",
        "from keras.utils.vis_utils import model_to_dot\n",
        "from keras.utils import plot_model\n",
        "#from resnets_utils import *\n",
        "from keras.initializers import glorot_uniform\n",
        "import scipy.misc\n",
        "from matplotlib.pyplot import imshow\n",
        "%matplotlib inline\n",
        "\n",
        "import keras.backend as K\n",
        "K.set_image_data_format('channels_last')\n",
        "K.set_learning_phase(1)"
      ],
      "execution_count": 11,
      "outputs": [
        {
          "output_type": "stream",
          "text": [
            "Using TensorFlow backend.\n"
          ],
          "name": "stderr"
        }
      ]
    },
    {
      "cell_type": "code",
      "metadata": {
        "id": "v3fz8Zy00mpm",
        "colab_type": "code",
        "outputId": "aefe4017-c5a9-4951-ad4c-1b23df956114",
        "colab": {
          "base_uri": "https://localhost:8080/",
          "height": 34
        }
      },
      "source": [
        "from sklearn.preprocessing import OneHotEncoder\n",
        "enc=OneHotEncoder(handle_unknown=\"ignore\")\n",
        "Y_train=enc.fit_transform(Y_train).toarray()\n",
        "Y_test=enc.transform(Y_test).toarray()\n",
        "#Y_train=convert_to_one_hot(Y_train.T,10).T\n",
        "#Y_test=convert_to_one_hot(Y_test.T,10).T\n",
        "#print(Y_temp[0:5,:])\n",
        "print(Y_test.shape)"
      ],
      "execution_count": 12,
      "outputs": [
        {
          "output_type": "stream",
          "text": [
            "(9999, 10)\n"
          ],
          "name": "stdout"
        }
      ]
    },
    {
      "cell_type": "code",
      "metadata": {
        "id": "yVxLdIFwlw9Q",
        "colab_type": "code",
        "outputId": "b80ba160-0f26-44f9-e659-c25c1fa714b6",
        "colab": {
          "base_uri": "https://localhost:8080/",
          "height": 50
        }
      },
      "source": [
        "print(Y_train.shape)\n",
        "print(Y_test.shape)"
      ],
      "execution_count": 13,
      "outputs": [
        {
          "output_type": "stream",
          "text": [
            "(19999, 10)\n",
            "(9999, 10)\n"
          ],
          "name": "stdout"
        }
      ]
    },
    {
      "cell_type": "code",
      "metadata": {
        "id": "zAGrj08Oxp6M",
        "colab_type": "code",
        "colab": {
          "base_uri": "https://localhost:8080/",
          "height": 138
        },
        "outputId": "a194edb1-17c9-49c2-f49b-d4fd1ada1f7f"
      },
      "source": [
        "classifier=Sequential()\n",
        "#print(X_train.shape)\n",
        "classifier.add(Conv2D(8,(3,3),padding='Same',activation='relu',kernel_initializer=glorot_uniform(seed=0),input_shape=[28,28,1]))\n",
        "classifier.add(BatchNormalization())\n",
        "classifier.add(MaxPooling2D((2,2),strides=(1,1)))\n",
        "classifier.add(Dropout(0.2))\n",
        "#print(X_train.shape)\n",
        "classifier.add(Conv2D(8,(3,3),padding='Same',activation='relu',kernel_initializer=glorot_uniform(seed=0)))\n",
        "classifier.add(BatchNormalization())\n",
        "classifier.add(MaxPooling2D((2,2),strides=(1,1)))\n",
        "classifier.add(Dropout(0.1))\n",
        "#print(X_train.shape)               \n",
        "classifier.add(Conv2D(16,(3,3),padding='Valid',activation='relu',kernel_initializer=glorot_uniform(seed=0)))\n",
        "classifier.add(BatchNormalization())\n",
        "classifier.add(MaxPooling2D((2,2),strides=(1,1)))     \n",
        "classifier.add(Dropout(0.1))\n",
        "#print(X_train.shape)               \n",
        "classifier.add(Conv2D(16,(3,3),padding='Valid',activation='relu',kernel_initializer=glorot_uniform(seed=0)))\n",
        "classifier.add(BatchNormalization())\n",
        "classifier.add(MaxPooling2D((2,2),strides=(1,1)))               \n",
        "classifier.add(Dropout(0.1))\n",
        "#print(X_train.shape)               \n",
        "classifier.add(Flatten())               \n",
        "#classifier.add(Dense(1024,activation='relu',kernel_initializer=glorot_uniform(seed=0)))\n",
        "#classifier.add(Dropout(0.2))\n",
        "classifier.add(Dense(512,activation='relu',kernel_initializer=glorot_uniform(seed=0)))\n",
        "#classifier.add(Dropout(0.1))\n",
        "classifier.add(Dense(256,activation='relu',kernel_initializer=glorot_uniform(seed=0)))\n",
        "classifier.add(Dense(128,activation='relu',kernel_initializer=glorot_uniform(seed=0)))\n",
        "classifier.add(Dense(64,activation='relu',kernel_initializer=glorot_uniform(seed=0)))\n",
        "classifier.add(Dense(32,activation='relu',kernel_initializer=glorot_uniform(seed=0)))               \n",
        "classifier.add(Dense(10,activation='relu',kernel_initializer=glorot_uniform(seed=0)))               "
      ],
      "execution_count": 14,
      "outputs": [
        {
          "output_type": "stream",
          "text": [
            "WARNING:tensorflow:From /usr/local/lib/python3.6/dist-packages/tensorflow/python/framework/op_def_library.py:263: colocate_with (from tensorflow.python.framework.ops) is deprecated and will be removed in a future version.\n",
            "Instructions for updating:\n",
            "Colocations handled automatically by placer.\n",
            "WARNING:tensorflow:From /usr/local/lib/python3.6/dist-packages/keras/backend/tensorflow_backend.py:3445: calling dropout (from tensorflow.python.ops.nn_ops) with keep_prob is deprecated and will be removed in a future version.\n",
            "Instructions for updating:\n",
            "Please use `rate` instead of `keep_prob`. Rate should be set to `rate = 1 - keep_prob`.\n"
          ],
          "name": "stdout"
        }
      ]
    },
    {
      "cell_type": "code",
      "metadata": {
        "id": "LJ2aO4X2dCGF",
        "colab_type": "code",
        "colab": {}
      },
      "source": [
        "from keras import optimizers\n",
        "classifier.compile(optimizer='adam',loss='categorical_crossentropy',metrics=['accuracy'])"
      ],
      "execution_count": 0,
      "outputs": []
    },
    {
      "cell_type": "code",
      "metadata": {
        "id": "8mQmTQ8MSGp7",
        "colab_type": "code",
        "outputId": "58ee03ab-60f5-4a11-9f05-82e85784d0bc",
        "colab": {
          "base_uri": "https://localhost:8080/",
          "height": 1801
        }
      },
      "source": [
        "classifier.fit(X_train,Y_train,epochs=50,batch_size=512,validation_split=0.2)"
      ],
      "execution_count": 16,
      "outputs": [
        {
          "output_type": "stream",
          "text": [
            "WARNING:tensorflow:From /usr/local/lib/python3.6/dist-packages/tensorflow/python/ops/math_ops.py:3066: to_int32 (from tensorflow.python.ops.math_ops) is deprecated and will be removed in a future version.\n",
            "Instructions for updating:\n",
            "Use tf.cast instead.\n",
            "Train on 15999 samples, validate on 4000 samples\n",
            "Epoch 1/50\n",
            "15999/15999 [==============================] - 6s 405us/step - loss: 4.1623 - acc: 0.2418 - val_loss: 3.0819 - val_acc: 0.4023\n",
            "Epoch 2/50\n",
            "15999/15999 [==============================] - 2s 130us/step - loss: 2.2100 - acc: 0.4619 - val_loss: 1.2813 - val_acc: 0.5610\n",
            "Epoch 3/50\n",
            "15999/15999 [==============================] - 2s 129us/step - loss: 1.0572 - acc: 0.7532 - val_loss: 1.0306 - val_acc: 0.8545\n",
            "Epoch 4/50\n",
            "15999/15999 [==============================] - 2s 130us/step - loss: 1.0275 - acc: 0.7734 - val_loss: 0.8053 - val_acc: 0.7960\n",
            "Epoch 5/50\n",
            "15999/15999 [==============================] - 2s 130us/step - loss: 0.6717 - acc: 0.8978 - val_loss: 0.5842 - val_acc: 0.9240\n",
            "Epoch 6/50\n",
            "15999/15999 [==============================] - 2s 129us/step - loss: 0.5386 - acc: 0.9073 - val_loss: 0.4503 - val_acc: 0.9287\n",
            "Epoch 7/50\n",
            "15999/15999 [==============================] - 2s 129us/step - loss: 0.4404 - acc: 0.9332 - val_loss: 0.3752 - val_acc: 0.9417\n",
            "Epoch 8/50\n",
            "15999/15999 [==============================] - 2s 131us/step - loss: 0.2955 - acc: 0.9526 - val_loss: 0.3043 - val_acc: 0.9500\n",
            "Epoch 9/50\n",
            "15999/15999 [==============================] - 2s 130us/step - loss: 0.6666 - acc: 0.8653 - val_loss: 0.7321 - val_acc: 0.8165\n",
            "Epoch 10/50\n",
            "15999/15999 [==============================] - 2s 129us/step - loss: 0.6200 - acc: 0.8499 - val_loss: 0.5591 - val_acc: 0.8998\n",
            "Epoch 11/50\n",
            "15999/15999 [==============================] - 2s 128us/step - loss: 0.5224 - acc: 0.9132 - val_loss: 0.5529 - val_acc: 0.8990\n",
            "Epoch 12/50\n",
            "15999/15999 [==============================] - 2s 130us/step - loss: 0.3893 - acc: 0.9364 - val_loss: 0.3354 - val_acc: 0.9388\n",
            "Epoch 13/50\n",
            "15999/15999 [==============================] - 2s 129us/step - loss: 0.3329 - acc: 0.9512 - val_loss: 0.3370 - val_acc: 0.9457\n",
            "Epoch 14/50\n",
            "15999/15999 [==============================] - 2s 129us/step - loss: 0.3271 - acc: 0.9299 - val_loss: 0.3151 - val_acc: 0.9478\n",
            "Epoch 15/50\n",
            "15999/15999 [==============================] - 2s 129us/step - loss: 0.2836 - acc: 0.9541 - val_loss: 0.2535 - val_acc: 0.9538\n",
            "Epoch 16/50\n",
            "15999/15999 [==============================] - 2s 130us/step - loss: 0.2396 - acc: 0.9595 - val_loss: 0.2606 - val_acc: 0.9570\n",
            "Epoch 17/50\n",
            "15999/15999 [==============================] - 2s 130us/step - loss: 0.2235 - acc: 0.9658 - val_loss: 0.2863 - val_acc: 0.9587\n",
            "Epoch 18/50\n",
            "15999/15999 [==============================] - 2s 130us/step - loss: 2.1571 - acc: 0.6699 - val_loss: 0.9160 - val_acc: 0.8657\n",
            "Epoch 19/50\n",
            "15999/15999 [==============================] - 2s 129us/step - loss: 0.6430 - acc: 0.8779 - val_loss: 0.5694 - val_acc: 0.8962\n",
            "Epoch 20/50\n",
            "15999/15999 [==============================] - 2s 128us/step - loss: 1.3982 - acc: 0.6895 - val_loss: 1.3582 - val_acc: 0.5205\n",
            "Epoch 21/50\n",
            "15999/15999 [==============================] - 2s 128us/step - loss: 0.9744 - acc: 0.6969 - val_loss: 0.8597 - val_acc: 0.8450\n",
            "Epoch 22/50\n",
            "15999/15999 [==============================] - 2s 129us/step - loss: 0.7643 - acc: 0.8263 - val_loss: 0.6659 - val_acc: 0.8752\n",
            "Epoch 23/50\n",
            "15999/15999 [==============================] - 2s 128us/step - loss: 0.5367 - acc: 0.8834 - val_loss: 0.4426 - val_acc: 0.9078\n",
            "Epoch 24/50\n",
            "15999/15999 [==============================] - 2s 129us/step - loss: 0.4226 - acc: 0.9169 - val_loss: 0.3594 - val_acc: 0.9255\n",
            "Epoch 25/50\n",
            "15999/15999 [==============================] - 2s 128us/step - loss: 0.3650 - acc: 0.9365 - val_loss: 0.3607 - val_acc: 0.9420\n",
            "Epoch 26/50\n",
            "15999/15999 [==============================] - 2s 129us/step - loss: 0.3810 - acc: 0.9349 - val_loss: 0.6268 - val_acc: 0.8355\n",
            "Epoch 27/50\n",
            "15999/15999 [==============================] - 2s 130us/step - loss: 0.4498 - acc: 0.9111 - val_loss: 0.3598 - val_acc: 0.9320\n",
            "Epoch 28/50\n",
            "15999/15999 [==============================] - 2s 128us/step - loss: 0.3136 - acc: 0.9481 - val_loss: 0.3614 - val_acc: 0.9467\n",
            "Epoch 29/50\n",
            "15999/15999 [==============================] - 2s 129us/step - loss: 0.2911 - acc: 0.9561 - val_loss: 0.3001 - val_acc: 0.9530\n",
            "Epoch 30/50\n",
            "15999/15999 [==============================] - 2s 128us/step - loss: 0.2655 - acc: 0.9551 - val_loss: 0.2665 - val_acc: 0.9490\n",
            "Epoch 31/50\n",
            "15999/15999 [==============================] - 2s 128us/step - loss: 0.2931 - acc: 0.9310 - val_loss: 0.3031 - val_acc: 0.9425\n",
            "Epoch 32/50\n",
            "15999/15999 [==============================] - 2s 129us/step - loss: 0.2698 - acc: 0.9582 - val_loss: 0.2380 - val_acc: 0.9593\n",
            "Epoch 33/50\n",
            "15999/15999 [==============================] - 2s 129us/step - loss: 0.2141 - acc: 0.9635 - val_loss: 0.2404 - val_acc: 0.9593\n",
            "Epoch 34/50\n",
            "15999/15999 [==============================] - 2s 128us/step - loss: 0.2193 - acc: 0.9662 - val_loss: 0.2619 - val_acc: 0.9618\n",
            "Epoch 35/50\n",
            "15999/15999 [==============================] - 2s 129us/step - loss: 0.2033 - acc: 0.9665 - val_loss: 0.2076 - val_acc: 0.9603\n",
            "Epoch 36/50\n",
            "15999/15999 [==============================] - 2s 129us/step - loss: 0.1963 - acc: 0.9685 - val_loss: 0.2245 - val_acc: 0.9645\n",
            "Epoch 37/50\n",
            "15999/15999 [==============================] - 2s 129us/step - loss: 0.2182 - acc: 0.9632 - val_loss: 0.2562 - val_acc: 0.9597\n",
            "Epoch 38/50\n",
            "15999/15999 [==============================] - 2s 130us/step - loss: 0.2423 - acc: 0.9494 - val_loss: 0.2174 - val_acc: 0.9567\n",
            "Epoch 39/50\n",
            "15999/15999 [==============================] - 2s 129us/step - loss: 0.1942 - acc: 0.9650 - val_loss: 0.1916 - val_acc: 0.9632\n",
            "Epoch 40/50\n",
            "15999/15999 [==============================] - 2s 130us/step - loss: 0.1805 - acc: 0.9674 - val_loss: 0.2213 - val_acc: 0.9600\n",
            "Epoch 41/50\n",
            "15999/15999 [==============================] - 2s 129us/step - loss: 0.1571 - acc: 0.9718 - val_loss: 0.1880 - val_acc: 0.9625\n",
            "Epoch 42/50\n",
            "15999/15999 [==============================] - 2s 128us/step - loss: 0.1523 - acc: 0.9722 - val_loss: 0.2047 - val_acc: 0.9673\n",
            "Epoch 43/50\n",
            "15999/15999 [==============================] - 2s 128us/step - loss: 0.2168 - acc: 0.9552 - val_loss: 0.4405 - val_acc: 0.8833\n",
            "Epoch 44/50\n",
            "15999/15999 [==============================] - 2s 128us/step - loss: 0.3758 - acc: 0.9186 - val_loss: 0.2790 - val_acc: 0.9442\n",
            "Epoch 45/50\n",
            "15999/15999 [==============================] - 2s 130us/step - loss: 0.2918 - acc: 0.9402 - val_loss: 0.3328 - val_acc: 0.9173\n",
            "Epoch 46/50\n",
            "15999/15999 [==============================] - 2s 129us/step - loss: 0.3040 - acc: 0.9341 - val_loss: 0.3093 - val_acc: 0.9260\n",
            "Epoch 47/50\n",
            "15999/15999 [==============================] - 2s 129us/step - loss: 0.2375 - acc: 0.9529 - val_loss: 0.2498 - val_acc: 0.9525\n",
            "Epoch 48/50\n",
            "15999/15999 [==============================] - 2s 129us/step - loss: 0.1888 - acc: 0.9612 - val_loss: 0.1983 - val_acc: 0.9615\n",
            "Epoch 49/50\n",
            "15999/15999 [==============================] - 2s 131us/step - loss: 0.1661 - acc: 0.9669 - val_loss: 0.1789 - val_acc: 0.9637\n",
            "Epoch 50/50\n",
            "15999/15999 [==============================] - 2s 129us/step - loss: 0.1472 - acc: 0.9704 - val_loss: 0.1872 - val_acc: 0.9650\n"
          ],
          "name": "stdout"
        },
        {
          "output_type": "execute_result",
          "data": {
            "text/plain": [
              "<keras.callbacks.History at 0x7fb38bba2f28>"
            ]
          },
          "metadata": {
            "tags": []
          },
          "execution_count": 16
        }
      ]
    },
    {
      "cell_type": "code",
      "metadata": {
        "id": "rU25bVEkS-Kf",
        "colab_type": "code",
        "outputId": "03aea5e0-027b-4450-9c05-f30bb8e06763",
        "colab": {
          "base_uri": "https://localhost:8080/",
          "height": 50
        }
      },
      "source": [
        "loss,accuracy=classifier.evaluate(X_test,Y_test)\n",
        "print(accuracy)"
      ],
      "execution_count": 17,
      "outputs": [
        {
          "output_type": "stream",
          "text": [
            "9999/9999 [==============================] - 1s 147us/step\n",
            "0.9693969396939695\n"
          ],
          "name": "stdout"
        }
      ]
    },
    {
      "cell_type": "code",
      "metadata": {
        "id": "pIQEFLSAnPSV",
        "colab_type": "code",
        "colab": {}
      },
      "source": [
        ""
      ],
      "execution_count": 0,
      "outputs": []
    }
  ]
}