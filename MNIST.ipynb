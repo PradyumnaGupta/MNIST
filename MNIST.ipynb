{
  "nbformat": 4,
  "nbformat_minor": 0,
  "metadata": {
    "colab": {
      "name": "MNIST.ipynb",
      "version": "0.3.2",
      "provenance": [],
      "include_colab_link": true
    },
    "kernelspec": {
      "name": "python3",
      "display_name": "Python 3"
    },
    "accelerator": "GPU"
  },
  "cells": [
    {
      "cell_type": "markdown",
      "metadata": {
        "id": "view-in-github",
        "colab_type": "text"
      },
      "source": [
        "<a href=\"https://colab.research.google.com/github/PradyumnaGupta/MNIST/blob/master/MNIST.ipynb\" target=\"_parent\"><img src=\"https://colab.research.google.com/assets/colab-badge.svg\" alt=\"Open In Colab\"/></a>"
      ]
    },
    {
      "cell_type": "code",
      "metadata": {
        "id": "k-Od5J45ZUS-",
        "colab_type": "code",
        "colab": {}
      },
      "source": [
        "import pandas as pd \n",
        "import numpy as np\n",
        "import matplotlib.pyplot as plt\n",
        "import seaborn "
      ],
      "execution_count": 0,
      "outputs": []
    },
    {
      "cell_type": "code",
      "metadata": {
        "id": "AG6PEHgvZh-O",
        "colab_type": "code",
        "colab": {}
      },
      "source": [
        "data_train=pd.read_csv('sample_data/mnist_train_small.csv')\n",
        "data_test=pd.read_csv('sample_data/mnist_test.csv')"
      ],
      "execution_count": 0,
      "outputs": []
    },
    {
      "cell_type": "code",
      "metadata": {
        "id": "-Rxt5gvNZ1WK",
        "colab_type": "code",
        "outputId": "0f27b23f-943e-4e83-8dd8-6d1938c4445a",
        "colab": {
          "base_uri": "https://localhost:8080/",
          "height": 50
        }
      },
      "source": [
        "print(data_train.shape)\n",
        "print(data_test.shape)"
      ],
      "execution_count": 3,
      "outputs": [
        {
          "output_type": "stream",
          "text": [
            "(19999, 785)\n",
            "(9999, 785)\n"
          ],
          "name": "stdout"
        }
      ]
    },
    {
      "cell_type": "code",
      "metadata": {
        "id": "zdmdThR4eXLS",
        "colab_type": "code",
        "outputId": "040ea6f3-4b12-4310-fa8f-7769289b6d63",
        "colab": {
          "base_uri": "https://localhost:8080/",
          "height": 2150
        }
      },
      "source": [
        "print(data_train.head)"
      ],
      "execution_count": 4,
      "outputs": [
        {
          "output_type": "stream",
          "text": [
            "<bound method NDFrame.head of        6  0  0.1  0.2  0.3  0.4  0.5  0.6  0.7  0.8  ...  0.581  0.582  0.583  \\\n",
            "0      5  0    0    0    0    0    0    0    0    0  ...      0      0      0   \n",
            "1      7  0    0    0    0    0    0    0    0    0  ...      0      0      0   \n",
            "2      9  0    0    0    0    0    0    0    0    0  ...      0      0      0   \n",
            "3      5  0    0    0    0    0    0    0    0    0  ...      0      0      0   \n",
            "4      2  0    0    0    0    0    0    0    0    0  ...      0      0      0   \n",
            "5      0  0    0    0    0    0    0    0    0    0  ...      0      0      0   \n",
            "6      6  0    0    0    0    0    0    0    0    0  ...      0      0      0   \n",
            "7      5  0    0    0    0    0    0    0    0    0  ...      0      0      0   \n",
            "8      5  0    0    0    0    0    0    0    0    0  ...      0      0      0   \n",
            "9      2  0    0    0    0    0    0    0    0    0  ...      0      0      0   \n",
            "10     7  0    0    0    0    0    0    0    0    0  ...      0      0      0   \n",
            "11     7  0    0    0    0    0    0    0    0    0  ...      0      0      0   \n",
            "12     6  0    0    0    0    0    0    0    0    0  ...      0      0      0   \n",
            "13     8  0    0    0    0    0    0    0    0    0  ...      0      0      0   \n",
            "14     9  0    0    0    0    0    0    0    0    0  ...      0      0      0   \n",
            "15     3  0    0    0    0    0    0    0    0    0  ...      0      0      0   \n",
            "16     5  0    0    0    0    0    0    0    0    0  ...      0      0      0   \n",
            "17     7  0    0    0    0    0    0    0    0    0  ...      0      0      0   \n",
            "18     6  0    0    0    0    0    0    0    0    0  ...      0      0      0   \n",
            "19     9  0    0    0    0    0    0    0    0    0  ...      0      0      0   \n",
            "20     4  0    0    0    0    0    0    0    0    0  ...      0      0      0   \n",
            "21     3  0    0    0    0    0    0    0    0    0  ...      0      0      0   \n",
            "22     4  0    0    0    0    0    0    0    0    0  ...      0      0      0   \n",
            "23     9  0    0    0    0    0    0    0    0    0  ...      0      0      0   \n",
            "24     2  0    0    0    0    0    0    0    0    0  ...      0      0      0   \n",
            "25     9  0    0    0    0    0    0    0    0    0  ...      0      0      0   \n",
            "26     1  0    0    0    0    0    0    0    0    0  ...      0      0      0   \n",
            "27     3  0    0    0    0    0    0    0    0    0  ...      0      0      0   \n",
            "28     9  0    0    0    0    0    0    0    0    0  ...      0      0      0   \n",
            "29     7  0    0    0    0    0    0    0    0    0  ...      0      0      0   \n",
            "...   .. ..  ...  ...  ...  ...  ...  ...  ...  ...  ...    ...    ...    ...   \n",
            "19969  1  0    0    0    0    0    0    0    0    0  ...      0      0      0   \n",
            "19970  9  0    0    0    0    0    0    0    0    0  ...      0      0      0   \n",
            "19971  5  0    0    0    0    0    0    0    0    0  ...      0      0      0   \n",
            "19972  5  0    0    0    0    0    0    0    0    0  ...      0      0      0   \n",
            "19973  1  0    0    0    0    0    0    0    0    0  ...      0      0      0   \n",
            "19974  6  0    0    0    0    0    0    0    0    0  ...      0      0      0   \n",
            "19975  8  0    0    0    0    0    0    0    0    0  ...      0      0      0   \n",
            "19976  4  0    0    0    0    0    0    0    0    0  ...      0      0      0   \n",
            "19977  9  0    0    0    0    0    0    0    0    0  ...      0      0      0   \n",
            "19978  3  0    0    0    0    0    0    0    0    0  ...      0      0      0   \n",
            "19979  3  0    0    0    0    0    0    0    0    0  ...      0      0      0   \n",
            "19980  4  0    0    0    0    0    0    0    0    0  ...      0      0      0   \n",
            "19981  1  0    0    0    0    0    0    0    0    0  ...      0      0      0   \n",
            "19982  2  0    0    0    0    0    0    0    0    0  ...      0      0      0   \n",
            "19983  4  0    0    0    0    0    0    0    0    0  ...      0      0      0   \n",
            "19984  6  0    0    0    0    0    0    0    0    0  ...      0      0      0   \n",
            "19985  0  0    0    0    0    0    0    0    0    0  ...      0      0      0   \n",
            "19986  3  0    0    0    0    0    0    0    0    0  ...      0      0      0   \n",
            "19987  1  0    0    0    0    0    0    0    0    0  ...      0      0      0   \n",
            "19988  3  0    0    0    0    0    0    0    0    0  ...      0      0      0   \n",
            "19989  9  0    0    0    0    0    0    0    0    0  ...      0      0      0   \n",
            "19990  6  0    0    0    0    0    0    0    0    0  ...      0      0      0   \n",
            "19991  5  0    0    0    0    0    0    0    0    0  ...      0      0      0   \n",
            "19992  5  0    0    0    0    0    0    0    0    0  ...      0      0      0   \n",
            "19993  0  0    0    0    0    0    0    0    0    0  ...      0      0      0   \n",
            "19994  0  0    0    0    0    0    0    0    0    0  ...      0      0      0   \n",
            "19995  1  0    0    0    0    0    0    0    0    0  ...      0      0      0   \n",
            "19996  2  0    0    0    0    0    0    0    0    0  ...      0      0      0   \n",
            "19997  9  0    0    0    0    0    0    0    0    0  ...      0      0      0   \n",
            "19998  5  0    0    0    0    0    0    0    0    0  ...      0      0      0   \n",
            "\n",
            "       0.584  0.585  0.586  0.587  0.588  0.589  0.590  \n",
            "0          0      0      0      0      0      0      0  \n",
            "1          0      0      0      0      0      0      0  \n",
            "2          0      0      0      0      0      0      0  \n",
            "3          0      0      0      0      0      0      0  \n",
            "4          0      0      0      0      0      0      0  \n",
            "5          0      0      0      0      0      0      0  \n",
            "6          0      0      0      0      0      0      0  \n",
            "7          0      0      0      0      0      0      0  \n",
            "8          0      0      0      0      0      0      0  \n",
            "9          0      0      0      0      0      0      0  \n",
            "10         0      0      0      0      0      0      0  \n",
            "11         0      0      0      0      0      0      0  \n",
            "12         0      0      0      0      0      0      0  \n",
            "13         0      0      0      0      0      0      0  \n",
            "14         0      0      0      0      0      0      0  \n",
            "15         0      0      0      0      0      0      0  \n",
            "16         0      0      0      0      0      0      0  \n",
            "17         0      0      0      0      0      0      0  \n",
            "18         0      0      0      0      0      0      0  \n",
            "19         0      0      0      0      0      0      0  \n",
            "20         0      0      0      0      0      0      0  \n",
            "21         0      0      0      0      0      0      0  \n",
            "22         0      0      0      0      0      0      0  \n",
            "23         0      0      0      0      0      0      0  \n",
            "24         0      0      0      0      0      0      0  \n",
            "25         0      0      0      0      0      0      0  \n",
            "26         0      0      0      0      0      0      0  \n",
            "27         0      0      0      0      0      0      0  \n",
            "28         0      0      0      0      0      0      0  \n",
            "29         0      0      0      0      0      0      0  \n",
            "...      ...    ...    ...    ...    ...    ...    ...  \n",
            "19969      0      0      0      0      0      0      0  \n",
            "19970      0      0      0      0      0      0      0  \n",
            "19971      0      0      0      0      0      0      0  \n",
            "19972      0      0      0      0      0      0      0  \n",
            "19973      0      0      0      0      0      0      0  \n",
            "19974      0      0      0      0      0      0      0  \n",
            "19975      0      0      0      0      0      0      0  \n",
            "19976      0      0      0      0      0      0      0  \n",
            "19977      0      0      0      0      0      0      0  \n",
            "19978      0      0      0      0      0      0      0  \n",
            "19979      0      0      0      0      0      0      0  \n",
            "19980      0      0      0      0      0      0      0  \n",
            "19981      0      0      0      0      0      0      0  \n",
            "19982      0      0      0      0      0      0      0  \n",
            "19983      0      0      0      0      0      0      0  \n",
            "19984      0      0      0      0      0      0      0  \n",
            "19985      0      0      0      0      0      0      0  \n",
            "19986      0      0      0      0      0      0      0  \n",
            "19987      0      0      0      0      0      0      0  \n",
            "19988      0      0      0      0      0      0      0  \n",
            "19989      0      0      0      0      0      0      0  \n",
            "19990      0      0      0      0      0      0      0  \n",
            "19991      0      0      0      0      0      0      0  \n",
            "19992      0      0      0      0      0      0      0  \n",
            "19993      0      0      0      0      0      0      0  \n",
            "19994      0      0      0      0      0      0      0  \n",
            "19995      0      0      0      0      0      0      0  \n",
            "19996      0      0      0      0      0      0      0  \n",
            "19997      0      0      0      0      0      0      0  \n",
            "19998      0      0      0      0      0      0      0  \n",
            "\n",
            "[19999 rows x 785 columns]>\n"
          ],
          "name": "stdout"
        }
      ]
    },
    {
      "cell_type": "code",
      "metadata": {
        "id": "KZA4HHyxbUCH",
        "colab_type": "code",
        "outputId": "76e975d5-fb0c-4154-82a5-25a5ae3f1e81",
        "colab": {
          "base_uri": "https://localhost:8080/",
          "height": 84
        }
      },
      "source": [
        "shape=data_train.shape\n",
        "X_train=pd.DataFrame(data_train.iloc[:,1:shape[1]])\n",
        "Y_train=pd.DataFrame(data_train.iloc[:,0])\n",
        "X_test=pd.DataFrame(data_test.iloc[:,1:shape[1]])\n",
        "Y_test=pd.DataFrame(data_test.iloc[:,0])\n",
        "print(X_train.shape)\n",
        "print(Y_train.shape)\n",
        "print(X_test.shape)\n",
        "print(Y_test.shape)\n",
        "#print(X_test.head)\n",
        "#print(Y_test.head)\n",
        "#print(Y_train.shape)"
      ],
      "execution_count": 5,
      "outputs": [
        {
          "output_type": "stream",
          "text": [
            "(19999, 784)\n",
            "(19999, 1)\n",
            "(9999, 784)\n",
            "(9999, 1)\n"
          ],
          "name": "stdout"
        }
      ]
    },
    {
      "cell_type": "code",
      "metadata": {
        "id": "WWB7m7XSbyup",
        "colab_type": "code",
        "outputId": "633eb1d7-6636-4ce9-9c77-ee9182e345d8",
        "colab": {
          "base_uri": "https://localhost:8080/",
          "height": 286
        }
      },
      "source": [
        "plt.figure()\n",
        "image=np.reshape(np.array(X_train)[0,:],(28,28))\n",
        "plt.imshow(image)\n",
        "plt.show()\n",
        "print(Y_train.iloc[0,0])"
      ],
      "execution_count": 6,
      "outputs": [
        {
          "output_type": "display_data",
          "data": {
            "image/png": "[encoded data removed]",
            "text/plain": [
              "<Figure size 432x288 with 1 Axes>"
            ]
          },
          "metadata": {
            "tags": []
          }
        },
        {
          "output_type": "stream",
          "text": [
            "5\n"
          ],
          "name": "stdout"
        }
      ]
    },
    {
      "cell_type": "code",
      "metadata": {
        "id": "bgK6cUjwcPNF",
        "colab_type": "code",
        "outputId": "37a40139-f264-476d-e280-118a5cc77fde",
        "colab": {
          "base_uri": "https://localhost:8080/",
          "height": 101
        }
      },
      "source": [
        "#\n",
        "train_X=[]\n",
        "for i in range(X_train.shape[0]):\n",
        "  arr=np.reshape(np.array(X_train.iloc[i,:]),(28,28,1))\n",
        "  train_X.append(arr)\n",
        "X_train=np.array(train_X)\n",
        "plt.figure()\n",
        "#plt.imshow(X_train[0,:,:,:])\n",
        "plt.show()\n",
        "print(X_train.shape)\n",
        "print(np.array(train_X).shape)\n",
        "#\n",
        "test_X=[]\n",
        "for i in range(X_test.shape[0]):\n",
        "  arr=np.reshape(np.array(X_test.iloc[i,:]),(28,28,1))\n",
        "  test_X.append(arr)\n",
        "X_test=np.array(test_X)\n",
        "plt.figure()\n",
        "#plt.imshow(X_test[0,:,:,:])\n",
        "plt.show()\n",
        "print(X_test.shape)"
      ],
      "execution_count": 7,
      "outputs": [
        {
          "output_type": "display_data",
          "data": {
            "text/plain": [
              "<Figure size 432x288 with 0 Axes>"
            ]
          },
          "metadata": {
            "tags": []
          }
        },
        {
          "output_type": "stream",
          "text": [
            "(19999, 28, 28, 1)\n",
            "(19999, 28, 28, 1)\n"
          ],
          "name": "stdout"
        },
        {
          "output_type": "display_data",
          "data": {
            "text/plain": [
              "<Figure size 432x288 with 0 Axes>"
            ]
          },
          "metadata": {
            "tags": []
          }
        },
        {
          "output_type": "stream",
          "text": [
            "(9999, 28, 28, 1)\n"
          ],
          "name": "stdout"
        }
      ]
    },
    {
      "cell_type": "code",
      "metadata": {
        "id": "LzhliKfgcUxN",
        "colab_type": "code",
        "colab": {}
      },
      "source": [
        "X_train=X_train/255\n",
        "X_test=X_test/255\n",
        "#plt.figure()\n",
        "#plt.imshow(temp[0])\n",
        "#plt.show()"
      ],
      "execution_count": 0,
      "outputs": []
    },
    {
      "cell_type": "code",
      "metadata": {
        "id": "X3gy-CXGcfEg",
        "colab_type": "code",
        "outputId": "02decb66-f806-4c14-f242-f621265f3a45",
        "colab": {
          "base_uri": "https://localhost:8080/",
          "height": 84
        }
      },
      "source": [
        "print(X_train.shape)\n",
        "print(Y_train.shape)\n",
        "print(X_test.shape)\n",
        "print(Y_test.shape)"
      ],
      "execution_count": 9,
      "outputs": [
        {
          "output_type": "stream",
          "text": [
            "(19999, 28, 28, 1)\n",
            "(19999, 1)\n",
            "(9999, 28, 28, 1)\n",
            "(9999, 1)\n"
          ],
          "name": "stdout"
        }
      ]
    },
    {
      "cell_type": "code",
      "metadata": {
        "id": "QZa_ZM4-vRPV",
        "colab_type": "code",
        "colab": {
          "base_uri": "https://localhost:8080/",
          "height": 34
        },
        "outputId": "0de31bfa-9396-4e9a-ad94-eeefe5df41ec"
      },
      "source": [
        "import numpy as np\n",
        "from keras import layers\n",
        "from keras.layers import Input, Add, Dense, Activation, ZeroPadding2D, BatchNormalization, Flatten, Conv2D, AveragePooling2D, MaxPooling2D, GlobalMaxPooling2D,Dropout\n",
        "from keras.models import Model, load_model,Sequential\n",
        "from keras.preprocessing import image\n",
        "from keras.utils import layer_utils\n",
        "from keras.utils.data_utils import get_file\n",
        "from keras.applications.imagenet_utils import preprocess_input\n",
        "import pydot\n",
        "from IPython.display import SVG\n",
        "from keras.utils.vis_utils import model_to_dot\n",
        "from keras.utils import plot_model\n",
        "#from resnets_utils import *\n",
        "from keras.initializers import glorot_uniform\n",
        "import scipy.misc\n",
        "from matplotlib.pyplot import imshow\n",
        "%matplotlib inline\n",
        "\n",
        "import keras.backend as K\n",
        "K.set_image_data_format('channels_last')\n",
        "K.set_learning_phase(1)"
      ],
      "execution_count": 10,
      "outputs": [
        {
          "output_type": "stream",
          "text": [
            "Using TensorFlow backend.\n"
          ],
          "name": "stderr"
        }
      ]
    },
    {
      "cell_type": "code",
      "metadata": {
        "id": "v3fz8Zy00mpm",
        "colab_type": "code",
        "outputId": "8952e1c8-f0d3-47a7-c8d0-56a5ffd770a1",
        "colab": {
          "base_uri": "https://localhost:8080/",
          "height": 34
        }
      },
      "source": [
        "from sklearn.preprocessing import OneHotEncoder\n",
        "enc=OneHotEncoder(handle_unknown=\"ignore\")\n",
        "Y_train=enc.fit_transform(Y_train).toarray()\n",
        "Y_test=enc.transform(Y_test).toarray()\n",
        "#Y_train=convert_to_one_hot(Y_train.T,10).T\n",
        "#Y_test=convert_to_one_hot(Y_test.T,10).T\n",
        "#print(Y_temp[0:5,:])\n",
        "print(Y_test.shape)"
      ],
      "execution_count": 11,
      "outputs": [
        {
          "output_type": "stream",
          "text": [
            "(9999, 10)\n"
          ],
          "name": "stdout"
        }
      ]
    },
    {
      "cell_type": "code",
      "metadata": {
        "id": "yVxLdIFwlw9Q",
        "colab_type": "code",
        "outputId": "af5c4b40-7375-47f8-c742-00223364f88d",
        "colab": {
          "base_uri": "https://localhost:8080/",
          "height": 50
        }
      },
      "source": [
        "print(Y_train.shape)\n",
        "print(Y_test.shape)"
      ],
      "execution_count": 12,
      "outputs": [
        {
          "output_type": "stream",
          "text": [
            "(19999, 10)\n",
            "(9999, 10)\n"
          ],
          "name": "stdout"
        }
      ]
    },
    {
      "cell_type": "code",
      "metadata": {
        "id": "zAGrj08Oxp6M",
        "colab_type": "code",
        "colab": {
          "base_uri": "https://localhost:8080/",
          "height": 87
        },
        "outputId": "2b90250d-0246-4035-9247-2fbffa90a76e"
      },
      "source": [
        "classifier=Sequential()\n",
        "#print(X_train.shape)\n",
        "classifier.add(Conv2D(32,(5,5),padding='Same',activation='relu',kernel_initializer=glorot_uniform(seed=0),input_shape=[28,28,1]))\n",
        "classifier.add(BatchNormalization())\n",
        "classifier.add(MaxPooling2D((2,2),strides=(1,1)))\n",
        "classifier.add(Dropout(0.2))\n",
        "#print(X_train.shape)\n",
        "classifier.add(Conv2D(32,(3,3),padding='Same',activation='relu',kernel_initializer=glorot_uniform(seed=0)))\n",
        "classifier.add(BatchNormalization())\n",
        "classifier.add(MaxPooling2D((2,2),strides=(1,1)))\n",
        "#classifier.add(Dropout(0.1))\n",
        "#print(X_train.shape)               \n",
        "classifier.add(Conv2D(64,(3,3),padding='Valid',activation='relu',kernel_initializer=glorot_uniform(seed=0)))\n",
        "classifier.add(BatchNormalization())\n",
        "classifier.add(MaxPooling2D((2,2),strides=(1,1)))     \n",
        "#classifier.add(Dropout(0.1))\n",
        "#print(X_train.shape)               \n",
        "classifier.add(Conv2D(128,(3,3),padding='Valid',activation='relu',kernel_initializer=glorot_uniform(seed=0)))\n",
        "classifier.add(BatchNormalization())\n",
        "classifier.add(MaxPooling2D((2,2),strides=(1,1)))               \n",
        "#classifier.add(Dropout(0.1))\n",
        "#print(X_train.shape)               \n",
        "classifier.add(Flatten())               \n",
        "classifier.add(Dense(144,activation='relu',kernel_initializer=glorot_uniform(seed=0)))\n",
        "classifier.add(Dropout(0.2))\n",
        "classifier.add(Dense(72,activation='relu',kernel_initializer=glorot_uniform(seed=0)))\n",
        "#classifier.add(Dropout(0.1))\n",
        "classifier.add(Dense(36,activation='relu',kernel_initializer=glorot_uniform(seed=0)))\n",
        "classifier.add(Dense(18,activation='relu',kernel_initializer=glorot_uniform(seed=0)))\n",
        "classifier.add(Dense(10,activation='relu',kernel_initializer=glorot_uniform(seed=0)))               "
      ],
      "execution_count": 18,
      "outputs": [
        {
          "output_type": "stream",
          "text": [
            "WARNING:tensorflow:From /usr/local/lib/python3.6/dist-packages/keras/backend/tensorflow_backend.py:3445: calling dropout (from tensorflow.python.ops.nn_ops) with keep_prob is deprecated and will be removed in a future version.\n",
            "Instructions for updating:\n",
            "Please use `rate` instead of `keep_prob`. Rate should be set to `rate = 1 - keep_prob`.\n"
          ],
          "name": "stdout"
        }
      ]
    },
    {
      "cell_type": "code",
      "metadata": {
        "id": "LJ2aO4X2dCGF",
        "colab_type": "code",
        "colab": {}
      },
      "source": [
        "from keras import optimizers\n",
        "classifier.compile(optimizer='adam',loss='categorical_crossentropy',metrics=['accuracy'])"
      ],
      "execution_count": 0,
      "outputs": []
    },
    {
      "cell_type": "code",
      "metadata": {
        "id": "8mQmTQ8MSGp7",
        "colab_type": "code",
        "outputId": "217c0614-5170-447b-84f6-4d59077146bd",
        "colab": {
          "base_uri": "https://localhost:8080/",
          "height": 554
        }
      },
      "source": [
        "classifier.fit(X_train,Y_train,epochs=15,batch_size=512,validation_split=0.2)"
      ],
      "execution_count": 20,
      "outputs": [
        {
          "output_type": "stream",
          "text": [
            "Train on 15999 samples, validate on 4000 samples\n",
            "Epoch 1/15\n",
            "15999/15999 [==============================] - 5s 294us/step - loss: 5.3174 - acc: 0.3208 - val_loss: 3.3739 - val_acc: 0.3548\n",
            "Epoch 2/15\n",
            "15999/15999 [==============================] - 3s 203us/step - loss: 1.7860 - acc: 0.5270 - val_loss: 1.2670 - val_acc: 0.7510\n",
            "Epoch 3/15\n",
            "15999/15999 [==============================] - 3s 203us/step - loss: 1.0844 - acc: 0.7714 - val_loss: 0.9455 - val_acc: 0.8018\n",
            "Epoch 4/15\n",
            "15999/15999 [==============================] - 3s 204us/step - loss: 0.9652 - acc: 0.8167 - val_loss: 1.0461 - val_acc: 0.7987\n",
            "Epoch 5/15\n",
            "15999/15999 [==============================] - 3s 204us/step - loss: 1.1680 - acc: 0.7301 - val_loss: 1.0124 - val_acc: 0.8055\n",
            "Epoch 6/15\n",
            "15999/15999 [==============================] - 3s 205us/step - loss: 0.7094 - acc: 0.8806 - val_loss: 0.6378 - val_acc: 0.9062\n",
            "Epoch 7/15\n",
            "15999/15999 [==============================] - 3s 205us/step - loss: 0.6223 - acc: 0.9132 - val_loss: 0.5373 - val_acc: 0.9225\n",
            "Epoch 8/15\n",
            "15999/15999 [==============================] - 3s 205us/step - loss: 0.5021 - acc: 0.9212 - val_loss: 0.5641 - val_acc: 0.9205\n",
            "Epoch 9/15\n",
            "15999/15999 [==============================] - 3s 205us/step - loss: 0.4372 - acc: 0.9394 - val_loss: 0.4345 - val_acc: 0.9390\n",
            "Epoch 10/15\n",
            "15999/15999 [==============================] - 3s 206us/step - loss: 0.5444 - acc: 0.9119 - val_loss: 0.5631 - val_acc: 0.8910\n",
            "Epoch 11/15\n",
            "15999/15999 [==============================] - 3s 206us/step - loss: 0.4433 - acc: 0.9311 - val_loss: 0.5253 - val_acc: 0.9248\n",
            "Epoch 12/15\n",
            "15999/15999 [==============================] - 3s 206us/step - loss: 0.4316 - acc: 0.9359 - val_loss: 0.3636 - val_acc: 0.9437\n",
            "Epoch 13/15\n",
            "15999/15999 [==============================] - 3s 207us/step - loss: 0.2972 - acc: 0.9560 - val_loss: 0.2962 - val_acc: 0.9550\n",
            "Epoch 14/15\n",
            "15999/15999 [==============================] - 3s 207us/step - loss: 0.4644 - acc: 0.9139 - val_loss: 0.4135 - val_acc: 0.9292\n",
            "Epoch 15/15\n",
            "15999/15999 [==============================] - 3s 208us/step - loss: 0.3407 - acc: 0.9444 - val_loss: 0.3516 - val_acc: 0.9500\n"
          ],
          "name": "stdout"
        },
        {
          "output_type": "execute_result",
          "data": {
            "text/plain": [
              "<keras.callbacks.History at 0x7fec30d6b9b0>"
            ]
          },
          "metadata": {
            "tags": []
          },
          "execution_count": 20
        }
      ]
    },
    {
      "cell_type": "code",
      "metadata": {
        "id": "rU25bVEkS-Kf",
        "colab_type": "code",
        "outputId": "e501cbb2-be2e-4976-c09f-fe5ae38c01a8",
        "colab": {
          "base_uri": "https://localhost:8080/",
          "height": 50
        }
      },
      "source": [
        "loss,accuracy=classifier.evaluate(X_test,Y_test)\n",
        "print(accuracy)"
      ],
      "execution_count": 21,
      "outputs": [
        {
          "output_type": "stream",
          "text": [
            "9999/9999 [==============================] - 1s 106us/step\n",
            "0.9545954595459546\n"
          ],
          "name": "stdout"
        }
      ]
    },
    {
      "cell_type": "code",
      "metadata": {
        "id": "pIQEFLSAnPSV",
        "colab_type": "code",
        "colab": {}
      },
      "source": [
        ""
      ],
      "execution_count": 0,
      "outputs": []
    }
  ]
}