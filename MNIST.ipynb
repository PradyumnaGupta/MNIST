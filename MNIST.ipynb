{
  "nbformat": 4,
  "nbformat_minor": 0,
  "metadata": {
    "colab": {
      "name": "MNIST.ipynb",
      "version": "0.3.2",
      "provenance": [],
      "include_colab_link": true
    },
    "kernelspec": {
      "name": "python3",
      "display_name": "Python 3"
    },
    "accelerator": "GPU"
  },
  "cells": [
    {
      "cell_type": "markdown",
      "metadata": {
        "id": "view-in-github",
        "colab_type": "text"
      },
      "source": [
        "<a href=\"https://colab.research.google.com/github/PradyumnaGupta/MNIST/blob/master/MNIST.ipynb\" target=\"_parent\"><img src=\"https://colab.research.google.com/assets/colab-badge.svg\" alt=\"Open In Colab\"/></a>"
      ]
    },
    {
      "metadata": {
        "id": "k-Od5J45ZUS-",
        "colab_type": "code",
        "colab": {}
      },
      "cell_type": "code",
      "source": [
        "import pandas as pd \n",
        "import numpy as np\n",
        "import matplotlib.pyplot as plt\n",
        "import seaborn "
      ],
      "execution_count": 0,
      "outputs": []
    },
    {
      "metadata": {
        "id": "AG6PEHgvZh-O",
        "colab_type": "code",
        "colab": {}
      },
      "cell_type": "code",
      "source": [
        "data_train=pd.read_csv('sample_data/mnist_train_small.csv')\n",
        "data_test=pd.read_csv('sample_data/mnist_test.csv')"
      ],
      "execution_count": 0,
      "outputs": []
    },
    {
      "metadata": {
        "id": "-Rxt5gvNZ1WK",
        "colab_type": "code",
        "colab": {
          "base_uri": "https://localhost:8080/",
          "height": 50
        },
        "outputId": "852714cc-7075-45bc-b957-712522973f16"
      },
      "cell_type": "code",
      "source": [
        "print(data_train.shape)\n",
        "print(data_test.shape)"
      ],
      "execution_count": 23,
      "outputs": [
        {
          "output_type": "stream",
          "text": [
            "(19999, 785)\n",
            "(9999, 785)\n"
          ],
          "name": "stdout"
        }
      ]
    },
    {
      "metadata": {
        "id": "zdmdThR4eXLS",
        "colab_type": "code",
        "colab": {
          "base_uri": "https://localhost:8080/",
          "height": 2150
        },
        "outputId": "34445bab-69bd-4cca-af17-083c6aab8e01"
      },
      "cell_type": "code",
      "source": [
        "print(data_train.head)"
      ],
      "execution_count": 24,
      "outputs": [
        {
          "output_type": "stream",
          "text": [
            "<bound method NDFrame.head of        6  0  0.1  0.2  0.3  0.4  0.5  0.6  0.7  0.8  ...  0.581  0.582  0.583  \\\n",
            "0      5  0    0    0    0    0    0    0    0    0  ...      0      0      0   \n",
            "1      7  0    0    0    0    0    0    0    0    0  ...      0      0      0   \n",
            "2      9  0    0    0    0    0    0    0    0    0  ...      0      0      0   \n",
            "3      5  0    0    0    0    0    0    0    0    0  ...      0      0      0   \n",
            "4      2  0    0    0    0    0    0    0    0    0  ...      0      0      0   \n",
            "5      0  0    0    0    0    0    0    0    0    0  ...      0      0      0   \n",
            "6      6  0    0    0    0    0    0    0    0    0  ...      0      0      0   \n",
            "7      5  0    0    0    0    0    0    0    0    0  ...      0      0      0   \n",
            "8      5  0    0    0    0    0    0    0    0    0  ...      0      0      0   \n",
            "9      2  0    0    0    0    0    0    0    0    0  ...      0      0      0   \n",
            "10     7  0    0    0    0    0    0    0    0    0  ...      0      0      0   \n",
            "11     7  0    0    0    0    0    0    0    0    0  ...      0      0      0   \n",
            "12     6  0    0    0    0    0    0    0    0    0  ...      0      0      0   \n",
            "13     8  0    0    0    0    0    0    0    0    0  ...      0      0      0   \n",
            "14     9  0    0    0    0    0    0    0    0    0  ...      0      0      0   \n",
            "15     3  0    0    0    0    0    0    0    0    0  ...      0      0      0   \n",
            "16     5  0    0    0    0    0    0    0    0    0  ...      0      0      0   \n",
            "17     7  0    0    0    0    0    0    0    0    0  ...      0      0      0   \n",
            "18     6  0    0    0    0    0    0    0    0    0  ...      0      0      0   \n",
            "19     9  0    0    0    0    0    0    0    0    0  ...      0      0      0   \n",
            "20     4  0    0    0    0    0    0    0    0    0  ...      0      0      0   \n",
            "21     3  0    0    0    0    0    0    0    0    0  ...      0      0      0   \n",
            "22     4  0    0    0    0    0    0    0    0    0  ...      0      0      0   \n",
            "23     9  0    0    0    0    0    0    0    0    0  ...      0      0      0   \n",
            "24     2  0    0    0    0    0    0    0    0    0  ...      0      0      0   \n",
            "25     9  0    0    0    0    0    0    0    0    0  ...      0      0      0   \n",
            "26     1  0    0    0    0    0    0    0    0    0  ...      0      0      0   \n",
            "27     3  0    0    0    0    0    0    0    0    0  ...      0      0      0   \n",
            "28     9  0    0    0    0    0    0    0    0    0  ...      0      0      0   \n",
            "29     7  0    0    0    0    0    0    0    0    0  ...      0      0      0   \n",
            "...   .. ..  ...  ...  ...  ...  ...  ...  ...  ...  ...    ...    ...    ...   \n",
            "19969  1  0    0    0    0    0    0    0    0    0  ...      0      0      0   \n",
            "19970  9  0    0    0    0    0    0    0    0    0  ...      0      0      0   \n",
            "19971  5  0    0    0    0    0    0    0    0    0  ...      0      0      0   \n",
            "19972  5  0    0    0    0    0    0    0    0    0  ...      0      0      0   \n",
            "19973  1  0    0    0    0    0    0    0    0    0  ...      0      0      0   \n",
            "19974  6  0    0    0    0    0    0    0    0    0  ...      0      0      0   \n",
            "19975  8  0    0    0    0    0    0    0    0    0  ...      0      0      0   \n",
            "19976  4  0    0    0    0    0    0    0    0    0  ...      0      0      0   \n",
            "19977  9  0    0    0    0    0    0    0    0    0  ...      0      0      0   \n",
            "19978  3  0    0    0    0    0    0    0    0    0  ...      0      0      0   \n",
            "19979  3  0    0    0    0    0    0    0    0    0  ...      0      0      0   \n",
            "19980  4  0    0    0    0    0    0    0    0    0  ...      0      0      0   \n",
            "19981  1  0    0    0    0    0    0    0    0    0  ...      0      0      0   \n",
            "19982  2  0    0    0    0    0    0    0    0    0  ...      0      0      0   \n",
            "19983  4  0    0    0    0    0    0    0    0    0  ...      0      0      0   \n",
            "19984  6  0    0    0    0    0    0    0    0    0  ...      0      0      0   \n",
            "19985  0  0    0    0    0    0    0    0    0    0  ...      0      0      0   \n",
            "19986  3  0    0    0    0    0    0    0    0    0  ...      0      0      0   \n",
            "19987  1  0    0    0    0    0    0    0    0    0  ...      0      0      0   \n",
            "19988  3  0    0    0    0    0    0    0    0    0  ...      0      0      0   \n",
            "19989  9  0    0    0    0    0    0    0    0    0  ...      0      0      0   \n",
            "19990  6  0    0    0    0    0    0    0    0    0  ...      0      0      0   \n",
            "19991  5  0    0    0    0    0    0    0    0    0  ...      0      0      0   \n",
            "19992  5  0    0    0    0    0    0    0    0    0  ...      0      0      0   \n",
            "19993  0  0    0    0    0    0    0    0    0    0  ...      0      0      0   \n",
            "19994  0  0    0    0    0    0    0    0    0    0  ...      0      0      0   \n",
            "19995  1  0    0    0    0    0    0    0    0    0  ...      0      0      0   \n",
            "19996  2  0    0    0    0    0    0    0    0    0  ...      0      0      0   \n",
            "19997  9  0    0    0    0    0    0    0    0    0  ...      0      0      0   \n",
            "19998  5  0    0    0    0    0    0    0    0    0  ...      0      0      0   \n",
            "\n",
            "       0.584  0.585  0.586  0.587  0.588  0.589  0.590  \n",
            "0          0      0      0      0      0      0      0  \n",
            "1          0      0      0      0      0      0      0  \n",
            "2          0      0      0      0      0      0      0  \n",
            "3          0      0      0      0      0      0      0  \n",
            "4          0      0      0      0      0      0      0  \n",
            "5          0      0      0      0      0      0      0  \n",
            "6          0      0      0      0      0      0      0  \n",
            "7          0      0      0      0      0      0      0  \n",
            "8          0      0      0      0      0      0      0  \n",
            "9          0      0      0      0      0      0      0  \n",
            "10         0      0      0      0      0      0      0  \n",
            "11         0      0      0      0      0      0      0  \n",
            "12         0      0      0      0      0      0      0  \n",
            "13         0      0      0      0      0      0      0  \n",
            "14         0      0      0      0      0      0      0  \n",
            "15         0      0      0      0      0      0      0  \n",
            "16         0      0      0      0      0      0      0  \n",
            "17         0      0      0      0      0      0      0  \n",
            "18         0      0      0      0      0      0      0  \n",
            "19         0      0      0      0      0      0      0  \n",
            "20         0      0      0      0      0      0      0  \n",
            "21         0      0      0      0      0      0      0  \n",
            "22         0      0      0      0      0      0      0  \n",
            "23         0      0      0      0      0      0      0  \n",
            "24         0      0      0      0      0      0      0  \n",
            "25         0      0      0      0      0      0      0  \n",
            "26         0      0      0      0      0      0      0  \n",
            "27         0      0      0      0      0      0      0  \n",
            "28         0      0      0      0      0      0      0  \n",
            "29         0      0      0      0      0      0      0  \n",
            "...      ...    ...    ...    ...    ...    ...    ...  \n",
            "19969      0      0      0      0      0      0      0  \n",
            "19970      0      0      0      0      0      0      0  \n",
            "19971      0      0      0      0      0      0      0  \n",
            "19972      0      0      0      0      0      0      0  \n",
            "19973      0      0      0      0      0      0      0  \n",
            "19974      0      0      0      0      0      0      0  \n",
            "19975      0      0      0      0      0      0      0  \n",
            "19976      0      0      0      0      0      0      0  \n",
            "19977      0      0      0      0      0      0      0  \n",
            "19978      0      0      0      0      0      0      0  \n",
            "19979      0      0      0      0      0      0      0  \n",
            "19980      0      0      0      0      0      0      0  \n",
            "19981      0      0      0      0      0      0      0  \n",
            "19982      0      0      0      0      0      0      0  \n",
            "19983      0      0      0      0      0      0      0  \n",
            "19984      0      0      0      0      0      0      0  \n",
            "19985      0      0      0      0      0      0      0  \n",
            "19986      0      0      0      0      0      0      0  \n",
            "19987      0      0      0      0      0      0      0  \n",
            "19988      0      0      0      0      0      0      0  \n",
            "19989      0      0      0      0      0      0      0  \n",
            "19990      0      0      0      0      0      0      0  \n",
            "19991      0      0      0      0      0      0      0  \n",
            "19992      0      0      0      0      0      0      0  \n",
            "19993      0      0      0      0      0      0      0  \n",
            "19994      0      0      0      0      0      0      0  \n",
            "19995      0      0      0      0      0      0      0  \n",
            "19996      0      0      0      0      0      0      0  \n",
            "19997      0      0      0      0      0      0      0  \n",
            "19998      0      0      0      0      0      0      0  \n",
            "\n",
            "[19999 rows x 785 columns]>\n"
          ],
          "name": "stdout"
        }
      ]
    },
    {
      "metadata": {
        "id": "KZA4HHyxbUCH",
        "colab_type": "code",
        "colab": {
          "base_uri": "https://localhost:8080/",
          "height": 84
        },
        "outputId": "57ee0fb5-47d6-429e-a72f-3cdd8306d715"
      },
      "cell_type": "code",
      "source": [
        "shape=data_train.shape\n",
        "X_train=pd.DataFrame(data_train.iloc[:,1:shape[1]])\n",
        "Y_train=pd.DataFrame(data_train.iloc[:,0])\n",
        "X_test=pd.DataFrame(data_test.iloc[:,1:shape[1]])\n",
        "Y_test=pd.DataFrame(data_test.iloc[:,0])\n",
        "print(X_train.shape)\n",
        "print(Y_train.shape)\n",
        "print(X_test.shape)\n",
        "print(Y_test.shape)\n",
        "#print(X_test.head)\n",
        "#print(Y_test.head)\n",
        "#print(Y_train.shape)"
      ],
      "execution_count": 50,
      "outputs": [
        {
          "output_type": "stream",
          "text": [
            "(19999, 784)\n",
            "(19999, 1)\n",
            "(9999, 784)\n",
            "(9999, 1)\n"
          ],
          "name": "stdout"
        }
      ]
    },
    {
      "metadata": {
        "id": "WWB7m7XSbyup",
        "colab_type": "code",
        "colab": {
          "base_uri": "https://localhost:8080/",
          "height": 286
        },
        "outputId": "a5af5e69-e625-4852-9195-21039f26f446"
      },
      "cell_type": "code",
      "source": [
        "plt.figure()\n",
        "image=np.reshape(np.array(X_train)[0,:],(28,28))\n",
        "plt.imshow(image)\n",
        "plt.show()\n",
        "print(Y_train.iloc[0,0])"
      ],
      "execution_count": 51,
      "outputs": [
        {
          "output_type": "display_data",
          "data": {
            "image/png": "[encoded data removed]",
            "text/plain": [
              "<Figure size 432x288 with 1 Axes>"
            ]
          },
          "metadata": {
            "tags": []
          }
        },
        {
          "output_type": "stream",
          "text": [
            "5\n"
          ],
          "name": "stdout"
        }
      ]
    },
    {
      "metadata": {
        "id": "bgK6cUjwcPNF",
        "colab_type": "code",
        "colab": {
          "base_uri": "https://localhost:8080/",
          "height": 101
        },
        "outputId": "2640934f-f552-4ae3-eeb0-ab55882d9d7c"
      },
      "cell_type": "code",
      "source": [
        "#\n",
        "train_X=[]\n",
        "for i in range(X_train.shape[0]):\n",
        "  arr=np.reshape(np.array(X_train.iloc[i,:]),(28,28,1))\n",
        "  train_X.append(arr)\n",
        "X_train=np.array(train_X)\n",
        "plt.figure()\n",
        "#plt.imshow(X_train[0,:,:,:])\n",
        "plt.show()\n",
        "print(X_train.shape)\n",
        "print(np.array(train_X).shape)\n",
        "#\n",
        "test_X=[]\n",
        "for i in range(X_test.shape[0]):\n",
        "  arr=np.reshape(np.array(X_test.iloc[i,:]),(28,28,1))\n",
        "  test_X.append(arr)\n",
        "X_test=np.array(test_X)\n",
        "plt.figure()\n",
        "#plt.imshow(X_test[0,:,:,:])\n",
        "plt.show()\n",
        "print(X_test.shape)"
      ],
      "execution_count": 52,
      "outputs": [
        {
          "output_type": "display_data",
          "data": {
            "text/plain": [
              "<Figure size 432x288 with 0 Axes>"
            ]
          },
          "metadata": {
            "tags": []
          }
        },
        {
          "output_type": "stream",
          "text": [
            "(19999, 28, 28, 1)\n",
            "(19999, 28, 28, 1)\n"
          ],
          "name": "stdout"
        },
        {
          "output_type": "display_data",
          "data": {
            "text/plain": [
              "<Figure size 432x288 with 0 Axes>"
            ]
          },
          "metadata": {
            "tags": []
          }
        },
        {
          "output_type": "stream",
          "text": [
            "(9999, 28, 28, 1)\n"
          ],
          "name": "stdout"
        }
      ]
    },
    {
      "metadata": {
        "id": "LzhliKfgcUxN",
        "colab_type": "code",
        "colab": {}
      },
      "cell_type": "code",
      "source": [
        "X_train=X_train/255\n",
        "X_test=X_test/255\n",
        "#plt.figure()\n",
        "#plt.imshow(temp[0])\n",
        "#plt.show()"
      ],
      "execution_count": 0,
      "outputs": []
    },
    {
      "metadata": {
        "id": "X3gy-CXGcfEg",
        "colab_type": "code",
        "colab": {
          "base_uri": "https://localhost:8080/",
          "height": 84
        },
        "outputId": "0a8c29d6-dac7-422b-f4ac-9d4b3669b6aa"
      },
      "cell_type": "code",
      "source": [
        "print(X_train.shape)\n",
        "print(Y_train.shape)\n",
        "print(X_test.shape)\n",
        "print(Y_test.shape)"
      ],
      "execution_count": 54,
      "outputs": [
        {
          "output_type": "stream",
          "text": [
            "(19999, 28, 28, 1)\n",
            "(19999, 1)\n",
            "(9999, 28, 28, 1)\n",
            "(9999, 1)\n"
          ],
          "name": "stdout"
        }
      ]
    },
    {
      "metadata": {
        "id": "QZa_ZM4-vRPV",
        "colab_type": "code",
        "colab": {}
      },
      "cell_type": "code",
      "source": [
        "import numpy as np\n",
        "from keras import layers\n",
        "from keras.layers import Input, Add, Dense, Activation, ZeroPadding2D, BatchNormalization, Flatten, Conv2D, AveragePooling2D, MaxPooling2D, GlobalMaxPooling2D\n",
        "from keras.models import Model, load_model,Sequential\n",
        "from keras.preprocessing import image\n",
        "from keras.utils import layer_utils\n",
        "from keras.utils.data_utils import get_file\n",
        "from keras.applications.imagenet_utils import preprocess_input\n",
        "import pydot\n",
        "from IPython.display import SVG\n",
        "from keras.utils.vis_utils import model_to_dot\n",
        "from keras.utils import plot_model\n",
        "#from resnets_utils import *\n",
        "from keras.initializers import glorot_uniform\n",
        "import scipy.misc\n",
        "from matplotlib.pyplot import imshow\n",
        "%matplotlib inline\n",
        "\n",
        "import keras.backend as K\n",
        "K.set_image_data_format('channels_last')\n",
        "K.set_learning_phase(1)"
      ],
      "execution_count": 0,
      "outputs": []
    },
    {
      "metadata": {
        "id": "v3fz8Zy00mpm",
        "colab_type": "code",
        "colab": {
          "base_uri": "https://localhost:8080/",
          "height": 118
        },
        "outputId": "57d61cff-9d87-4e64-f6c4-98d34da43579"
      },
      "cell_type": "code",
      "source": [
        "from sklearn.preprocessing import OneHotEncoder\n",
        "enc=OneHotEncoder(handle_unknown=\"ignore\")\n",
        "Y_train=enc.fit_transform(Y_train).toarray()\n",
        "Y_test=enc.transform(Y_test).toarray()\n",
        "#Y_train=convert_to_one_hot(Y_train.T,10).T\n",
        "#Y_test=convert_to_one_hot(Y_test.T,10).T\n",
        "print(Y_temp[0:5,:])\n",
        "print(Y_test.shape)"
      ],
      "execution_count": 61,
      "outputs": [
        {
          "output_type": "stream",
          "text": [
            "[[0. 0. 0. 0. 0. 1. 0. 0. 0. 0.]\n",
            " [0. 0. 0. 0. 0. 0. 0. 1. 0. 0.]\n",
            " [0. 0. 0. 0. 0. 0. 0. 0. 0. 1.]\n",
            " [0. 0. 0. 0. 0. 1. 0. 0. 0. 0.]\n",
            " [0. 0. 1. 0. 0. 0. 0. 0. 0. 0.]]\n",
            "(9999, 10)\n"
          ],
          "name": "stdout"
        }
      ]
    },
    {
      "metadata": {
        "id": "yVxLdIFwlw9Q",
        "colab_type": "code",
        "colab": {
          "base_uri": "https://localhost:8080/",
          "height": 50
        },
        "outputId": "22a693b0-0b5b-4681-a588-8cd615982510"
      },
      "cell_type": "code",
      "source": [
        "print(Y_train.shape)\n",
        "print(Y_test.shape)"
      ],
      "execution_count": 62,
      "outputs": [
        {
          "output_type": "stream",
          "text": [
            "(19999, 10)\n",
            "(9999, 10)\n"
          ],
          "name": "stdout"
        }
      ]
    },
    {
      "metadata": {
        "id": "zAGrj08Oxp6M",
        "colab_type": "code",
        "colab": {}
      },
      "cell_type": "code",
      "source": [
        "classifier=Sequential()\n",
        "#print(X_train.shape)\n",
        "classifier.add(Conv2D(32,(5,5),padding='Same',activation='relu',kernel_initializer=glorot_uniform(seed=0),input_shape=[28,28,1]))\n",
        "classifier.add(BatchNormalization())\n",
        "classifier.add(MaxPooling2D((2,2),strides=(1,1)))\n",
        "#print(X_train.shape)\n",
        "classifier.add(Conv2D(32,(3,3),padding='Same',activation='relu',kernel_initializer=glorot_uniform(seed=0)))\n",
        "classifier.add(BatchNormalization())\n",
        "classifier.add(MaxPooling2D((2,2),strides=(1,1)))\n",
        "#print(X_train.shape)               \n",
        "classifier.add(Conv2D(64,(3,3),padding='Valid',activation='relu',kernel_initializer=glorot_uniform(seed=0)))\n",
        "classifier.add(BatchNormalization())\n",
        "classifier.add(MaxPooling2D((2,2),strides=(1,1)))     \n",
        "#print(X_train.shape)               \n",
        "classifier.add(Conv2D(128,(3,3),padding='Valid',activation='relu',kernel_initializer=glorot_uniform(seed=0)))\n",
        "classifier.add(BatchNormalization())\n",
        "classifier.add(MaxPooling2D((2,2),strides=(1,1)))               \n",
        "#print(X_train.shape)               \n",
        "classifier.add(Flatten())               \n",
        "\n",
        "classifier.add(Dense(20,activation='relu',kernel_initializer=glorot_uniform(seed=0)))\n",
        "classifier.add(Dense(10,activation='relu',kernel_initializer=glorot_uniform(seed=0)))\n",
        "classifier.add(Dense(10,activation='relu',kernel_initializer=glorot_uniform(seed=0)))               "
      ],
      "execution_count": 0,
      "outputs": []
    },
    {
      "metadata": {
        "id": "LJ2aO4X2dCGF",
        "colab_type": "code",
        "colab": {}
      },
      "cell_type": "code",
      "source": [
        "classifier.compile(optimizer='adam',loss='categorical_crossentropy',metrics=['accuracy'])"
      ],
      "execution_count": 0,
      "outputs": []
    },
    {
      "metadata": {
        "id": "8mQmTQ8MSGp7",
        "colab_type": "code",
        "colab": {
          "base_uri": "https://localhost:8080/",
          "height": 625
        },
        "outputId": "4c9d9d9f-9f61-42ba-eae3-dd7e553bbd3b"
      },
      "cell_type": "code",
      "source": [
        "classifier.fit(X_train,Y_train,epochs=15,batch_size=512,validation_split=0.2)"
      ],
      "execution_count": 63,
      "outputs": [
        {
          "output_type": "stream",
          "text": [
            "WARNING:tensorflow:From /usr/local/lib/python3.6/dist-packages/tensorflow/python/ops/math_ops.py:3066: to_int32 (from tensorflow.python.ops.math_ops) is deprecated and will be removed in a future version.\n",
            "Instructions for updating:\n",
            "Use tf.cast instead.\n",
            "Train on 15999 samples, validate on 4000 samples\n",
            "Epoch 1/15\n",
            "15999/15999 [==============================] - 10s 636us/step - loss: 2.1923 - acc: 0.3713 - val_loss: 1.5321 - val_acc: 0.5780\n",
            "Epoch 2/15\n",
            "15999/15999 [==============================] - 5s 340us/step - loss: 1.3257 - acc: 0.5494 - val_loss: 1.1362 - val_acc: 0.5630\n",
            "Epoch 3/15\n",
            "15999/15999 [==============================] - 5s 340us/step - loss: 1.0094 - acc: 0.6657 - val_loss: 0.9757 - val_acc: 0.7260\n",
            "Epoch 4/15\n",
            "15999/15999 [==============================] - 5s 341us/step - loss: 0.8198 - acc: 0.7642 - val_loss: 0.7477 - val_acc: 0.7695\n",
            "Epoch 5/15\n",
            "15999/15999 [==============================] - 5s 341us/step - loss: 0.9975 - acc: 0.7240 - val_loss: 0.8122 - val_acc: 0.7690\n",
            "Epoch 6/15\n",
            "15999/15999 [==============================] - 5s 340us/step - loss: 0.8475 - acc: 0.7480 - val_loss: 0.6598 - val_acc: 0.7938\n",
            "Epoch 7/15\n",
            "15999/15999 [==============================] - 5s 341us/step - loss: 0.5918 - acc: 0.8297 - val_loss: 0.4910 - val_acc: 0.8530\n",
            "Epoch 8/15\n",
            "15999/15999 [==============================] - 5s 340us/step - loss: 0.6162 - acc: 0.7941 - val_loss: 0.7759 - val_acc: 0.7387\n",
            "Epoch 9/15\n",
            "15999/15999 [==============================] - 5s 339us/step - loss: 1.3996 - acc: 0.6234 - val_loss: 1.0543 - val_acc: 0.6927\n",
            "Epoch 10/15\n",
            "15999/15999 [==============================] - 5s 340us/step - loss: 0.9157 - acc: 0.7234 - val_loss: 1.0636 - val_acc: 0.6910\n",
            "Epoch 11/15\n",
            "15999/15999 [==============================] - 5s 340us/step - loss: 1.0864 - acc: 0.6458 - val_loss: 0.9126 - val_acc: 0.6742\n",
            "Epoch 12/15\n",
            "15999/15999 [==============================] - 5s 341us/step - loss: 0.7727 - acc: 0.7431 - val_loss: 0.7299 - val_acc: 0.7918\n",
            "Epoch 13/15\n",
            "15999/15999 [==============================] - 5s 340us/step - loss: 0.6513 - acc: 0.7975 - val_loss: 0.6001 - val_acc: 0.8115\n",
            "Epoch 14/15\n",
            "15999/15999 [==============================] - 5s 341us/step - loss: 0.5379 - acc: 0.8376 - val_loss: 0.5330 - val_acc: 0.8467\n",
            "Epoch 15/15\n",
            "15999/15999 [==============================] - 5s 341us/step - loss: 0.5436 - acc: 0.8518 - val_loss: 0.6165 - val_acc: 0.8545\n"
          ],
          "name": "stdout"
        },
        {
          "output_type": "execute_result",
          "data": {
            "text/plain": [
              "<keras.callbacks.History at 0x7f15ac4d1860>"
            ]
          },
          "metadata": {
            "tags": []
          },
          "execution_count": 63
        }
      ]
    },
    {
      "metadata": {
        "id": "rU25bVEkS-Kf",
        "colab_type": "code",
        "colab": {
          "base_uri": "https://localhost:8080/",
          "height": 50
        },
        "outputId": "929303ca-9f23-4da6-a143-f31ac7a2da85"
      },
      "cell_type": "code",
      "source": [
        "loss,accuracy=classifier.evaluate(X_test,Y_test)\n",
        "print(accuracy)"
      ],
      "execution_count": 67,
      "outputs": [
        {
          "output_type": "stream",
          "text": [
            "9999/9999 [==============================] - 2s 232us/step\n",
            "0.861786178641706\n"
          ],
          "name": "stdout"
        }
      ]
    },
    {
      "metadata": {
        "id": "pIQEFLSAnPSV",
        "colab_type": "code",
        "colab": {}
      },
      "cell_type": "code",
      "source": [
        ""
      ],
      "execution_count": 0,
      "outputs": []
    }
  ]
}